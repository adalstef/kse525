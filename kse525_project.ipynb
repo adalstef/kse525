{
 "cells": [
  {
   "cell_type": "markdown",
   "metadata": {},
   "source": [
    "# Titanic: Machine Learning from Disaster\n",
    "Data downloaded from [here](https://www.kaggle.com/c/titanic/data)."
   ]
  },
  {
   "cell_type": "code",
   "execution_count": 140,
   "metadata": {
    "scrolled": true
   },
   "outputs": [],
   "source": [
    "import csv\n",
    "import matplotlib.pyplot as plt\n",
    "%matplotlib inline\n",
    "from collections import defaultdict\n",
    "import numpy as np\n",
    "from collections import Counter\n",
    "from sklearn.ensemble import RandomForestClassifier\n",
    "from sklearn import cross_validation\n",
    "from sklearn.model_selection import GridSearchCV"
   ]
  },
  {
   "cell_type": "markdown",
   "metadata": {},
   "source": [
    "Training data is read into a dictionary. The training data has the following attributes are selected:\n",
    "* PassengerId (key)\n",
    "* Survived\n",
    "* Pclass\n",
    "* Name\n",
    "* Sex\n",
    "* Age\n",
    "* SibSp\n",
    "* Parch\n",
    "* Fare\n",
    "* Embarked\n",
    "\n",
    "and the following attributes are disregarded:\n",
    "* Ticket\n",
    "* Cabin"
   ]
  },
  {
   "cell_type": "code",
   "execution_count": 141,
   "metadata": {
    "collapsed": true
   },
   "outputs": [],
   "source": [
    "passengers = {}\n",
    "with open(\"train.csv\") as csvfile:\n",
    "    reader = csv.DictReader(csvfile, delimiter=\",\")\n",
    "    for entry in reader:\n",
    "        passengers[\n",
    "            entry[\"PassengerId\"]\n",
    "        ] = {\n",
    "        \"data\":     \"training_data\",\n",
    "        \"survived\": entry[\"Survived\"],\n",
    "        \"p_class\":  entry[\"Pclass\"],\n",
    "        \"name\":     entry[\"Name\"],\n",
    "        \"sex\":      entry[\"Sex\"],\n",
    "        \"age\":      entry[\"Age\"],\n",
    "        \"sip_sp\":   entry[\"SibSp\"],\n",
    "        \"parch\":    entry[\"Parch\"],\n",
    "        \"fare\":     entry[\"Fare\"],\n",
    "        \"embarked\": entry[\"Embarked\"]           \n",
    "        }"
   ]
  },
  {
   "cell_type": "code",
   "execution_count": 142,
   "metadata": {},
   "outputs": [
    {
     "name": "stdout",
     "output_type": "stream",
     "text": [
      "Number of training data tuples: 891\n"
     ]
    }
   ],
   "source": [
    "training_data_count = len(passengers)\n",
    "print \"Number of training data tuples: %d\" % training_data_count"
   ]
  },
  {
   "cell_type": "markdown",
   "metadata": {},
   "source": [
    "Test data is read in and added to the same dictionary as before and marked as test data."
   ]
  },
  {
   "cell_type": "code",
   "execution_count": 143,
   "metadata": {
    "collapsed": true
   },
   "outputs": [],
   "source": [
    "with open(\"test.csv\") as csvfile:\n",
    "    reader = csv.DictReader(csvfile, delimiter=\",\")\n",
    "    for entry in reader:\n",
    "        passengers[\n",
    "            entry[\"PassengerId\"]\n",
    "        ] = {\n",
    "        \"data\":     \"test_data\",\n",
    "        \"survived\": \"N/A\",\n",
    "        \"p_class\":  entry[\"Pclass\"],\n",
    "        \"name\":     entry[\"Name\"],\n",
    "        \"sex\":      entry[\"Sex\"],\n",
    "        \"age\":      entry[\"Age\"],\n",
    "        \"sip_sp\":   entry[\"SibSp\"],\n",
    "        \"parch\":    entry[\"Parch\"],\n",
    "        \"fare\":     entry[\"Fare\"],\n",
    "        \"embarked\": entry[\"Embarked\"]           \n",
    "        }"
   ]
  },
  {
   "cell_type": "code",
   "execution_count": 144,
   "metadata": {},
   "outputs": [
    {
     "name": "stdout",
     "output_type": "stream",
     "text": [
      "Number of test data tuples: 418\n",
      "Total number of data tuples in data set: 1309\n"
     ]
    }
   ],
   "source": [
    "print \"Number of test data tuples: %d\" % (len(passengers) - training_data_count)\n",
    "print \"Total number of data tuples in data set: %d\" % len(passengers)"
   ]
  },
  {
   "cell_type": "code",
   "execution_count": 145,
   "metadata": {},
   "outputs": [
    {
     "name": "stdout",
     "output_type": "stream",
     "text": [
      "Example from 'passengers' dictionary (passenger no. 1):\n",
      "\n",
      "parch: 0\n",
      "fare: 7.25\n",
      "name: Braund, Mr. Owen Harris\n",
      "survived: 0\n",
      "embarked: S\n",
      "sip_sp: 1\n",
      "p_class: 3\n",
      "data: training_data\n",
      "age: 22\n",
      "sex: male\n"
     ]
    }
   ],
   "source": [
    "print \"Example from 'passengers' dictionary (passenger no. 1):\\n\"\n",
    "for key, value in passengers[\"1\"].iteritems():\n",
    "    print key + \": \" + value"
   ]
  },
  {
   "cell_type": "markdown",
   "metadata": {},
   "source": [
    "Lets see if there are any missing values (empty strings) in the data."
   ]
  },
  {
   "cell_type": "code",
   "execution_count": 146,
   "metadata": {
    "collapsed": true
   },
   "outputs": [],
   "source": [
    "passengers_key = []\n",
    "passengers_survived = []\n",
    "passengers_p_class = []\n",
    "passengers_name = []\n",
    "passengers_sex = []\n",
    "passengers_age = []\n",
    "passengers_sip_sp = []\n",
    "passengers_parch = []\n",
    "passengers_fare = []\n",
    "passengers_embarked = []\n",
    "for key, value in passengers.iteritems():\n",
    "    if(key != \"\"):\n",
    "        passengers_key.append(key)\n",
    "    if(value[\"survived\"] != \"\"):\n",
    "        passengers_survived.append(value[\"survived\"])\n",
    "    if(value[\"p_class\"] != \"\"):\n",
    "        passengers_p_class.append(int(value[\"p_class\"]))\n",
    "    if(value[\"name\"] != \"\"):\n",
    "        passengers_name.append(value[\"name\"])\n",
    "    if(value[\"sex\"] != \"\"):\n",
    "        passengers_sex.append(value[\"sex\"])\n",
    "    if(value[\"age\"] != \"\"):\n",
    "        passengers_age.append(float(value[\"age\"]))\n",
    "    if(value[\"sip_sp\"] != \"\"):\n",
    "        passengers_sip_sp.append(int(value[\"sip_sp\"]))\n",
    "    if(value[\"parch\"] != \"\"):\n",
    "        passengers_parch.append(int(value[\"parch\"]))\n",
    "    if(value[\"fare\"] != \"\"):\n",
    "        passengers_fare.append(float(value[\"fare\"]))\n",
    "    if(value[\"embarked\"] != \"\"):\n",
    "        passengers_embarked.append(value[\"embarked\"])"
   ]
  },
  {
   "cell_type": "code",
   "execution_count": 147,
   "metadata": {},
   "outputs": [
    {
     "name": "stdout",
     "output_type": "stream",
     "text": [
      "Number of items that do not have empty strings for each attribute:\n",
      "\n",
      "Keys: 1309\n",
      "survived: 1309\n",
      "p_class: 1309\n",
      "name: 1309\n",
      "sex: 1309\n",
      "age: 1046\n",
      "sip_sp: 1309\n",
      "parch: 1309\n",
      "fare 1308\n",
      "embarked: 1307\n"
     ]
    }
   ],
   "source": [
    "print \"Number of items that do not have empty strings for each attribute:\\n\" \n",
    "\n",
    "print \"Keys: %s\" % len(passengers_key)\n",
    "print \"survived: %s\" % len(passengers_survived)\n",
    "print \"p_class: %s\" % len(passengers_p_class)\n",
    "print \"name: %s\" % len(passengers_name)\n",
    "print \"sex: %s\" % len(passengers_sex)\n",
    "print \"age: %d\" % len(passengers_age)\n",
    "print \"sip_sp: %s\" % len(passengers_sip_sp)\n",
    "print \"parch: %s\" % len(passengers_parch)\n",
    "print \"fare %d\" % len(passengers_fare)\n",
    "print \"embarked: %s\" % len(passengers_embarked)"
   ]
  },
  {
   "cell_type": "markdown",
   "metadata": {},
   "source": [
    "As seen above there are three attributes that have empty strings (*age*, *fare* and *embarked*).\n",
    "\n",
    "Lets see which values the attributes have."
   ]
  },
  {
   "cell_type": "code",
   "execution_count": 148,
   "metadata": {},
   "outputs": [
    {
     "name": "stdout",
     "output_type": "stream",
     "text": [
      "survived: ['0', '1', 'N/A']\n",
      "p_class: [1, 2, 3]\n",
      "sip_sp: [0, 1, 2, 3, 4, 5, 8]\n",
      "parch: [0, 1, 2, 3, 4, 5, 6, 9]\n",
      "sex: ['female', 'male']\n",
      "embarked: ['C', 'Q', 'S']\n"
     ]
    }
   ],
   "source": [
    "print \"survived:\", sorted(set(passengers_survived))\n",
    "print \"p_class:\", sorted(set(passengers_p_class))\n",
    "print \"sip_sp:\", sorted(set(passengers_sip_sp))\n",
    "print \"parch:\", sorted(set(passengers_parch))\n",
    "\n",
    "passengers_sex_classes = sorted(set(passengers_sex))\n",
    "print \"sex:\", passengers_sex_classes\n",
    "\n",
    "passengers_embarked_classes = sorted(set(passengers_embarked))\n",
    "print \"embarked:\", passengers_embarked_classes"
   ]
  },
  {
   "cell_type": "markdown",
   "metadata": {},
   "source": [
    "Lets look at three attributes and see how *survived* and *died* are distributed. The attributes are:\n",
    "* *sex*\n",
    "* *p_class*\n",
    "* *age*"
   ]
  },
  {
   "cell_type": "code",
   "execution_count": 149,
   "metadata": {},
   "outputs": [
    {
     "data": {
      "image/png": "[encoded data removed]",
      "text/plain": [
       "<matplotlib.figure.Figure at 0x10fa41d90>"
      ]
     },
     "metadata": {},
     "output_type": "display_data"
    }
   ],
   "source": [
    "females_survived, females_died = 0, 0\n",
    "males_survived, males_died = 0, 0\n",
    "for key, value in passengers.iteritems():\n",
    "    if(value[\"sex\"] == \"female\" and value[\"survived\"] == \"1\"):\n",
    "        females_survived += 1\n",
    "    if(value[\"sex\"] == \"female\" and value[\"survived\"] == \"0\"):\n",
    "        females_died += 1\n",
    "    if(value[\"sex\"] == \"male\" and value[\"survived\"] == \"1\"):\n",
    "        males_survived += 1\n",
    "    if(value[\"sex\"] == \"male\" and value[\"survived\"] == \"0\"):\n",
    "        males_died += 1\n",
    "        \n",
    "N = 2\n",
    "survived = (females_survived, males_survived)\n",
    "died = (females_died, males_died)\n",
    "\n",
    "ind = np.arange(N)\n",
    "width = 0.3\n",
    "\n",
    "fig, ax = plt.subplots(figsize=(10,6))\n",
    "ax.bar(ind, survived, width, color='b')\n",
    "ax.bar(ind + width, died, width, color='r')\n",
    "\n",
    "ax.set_ylabel('Number of passengers', fontsize=12)\n",
    "ax.set_title('Survival rate by gender', fontsize=16)\n",
    "ax.set_xticks(ind + width / 2)\n",
    "ax.set_xticklabels(('Females', 'Males'), fontsize=12)\n",
    "ax.xaxis.set_ticks_position('none')\n",
    "\n",
    "ax.legend(('Survived', 'Died'), fontsize=12)\n",
    "\n",
    "plt.show()"
   ]
  },
  {
   "cell_type": "code",
   "execution_count": 150,
   "metadata": {},
   "outputs": [
    {
     "data": {
      "image/png": "[encoded data removed]",
      "text/plain": [
       "<matplotlib.figure.Figure at 0x1124b2a90>"
      ]
     },
     "metadata": {},
     "output_type": "display_data"
    }
   ],
   "source": [
    "class01_survived, class01_died = 0, 0\n",
    "class02_survived, class02_died = 0, 0\n",
    "class03_survived, class03_died = 0, 0\n",
    "for key, value in passengers.iteritems():\n",
    "    if(value[\"p_class\"] == \"1\" and value[\"survived\"] == \"1\"):\n",
    "        class01_survived += 1\n",
    "    if(value[\"p_class\"] == \"1\" and value[\"survived\"] == \"0\"):\n",
    "        class01_died += 1\n",
    "    if(value[\"p_class\"] == \"2\" and value[\"survived\"] == \"1\"):\n",
    "        class02_survived += 1\n",
    "    if(value[\"p_class\"] == \"2\" and value[\"survived\"] == \"0\"):\n",
    "        class02_died += 1\n",
    "    if(value[\"p_class\"] == \"3\" and value[\"survived\"] == \"1\"):\n",
    "        class03_survived += 1\n",
    "    if(value[\"p_class\"] == \"3\" and value[\"survived\"] == \"0\"):\n",
    "        class03_died += 1\n",
    "\n",
    "survived = (class01_survived, class02_survived, class03_survived)\n",
    "died = (class01_died, class02_died, class03_died)\n",
    "\n",
    "ind = np.arange(3)\n",
    "width = 0.3\n",
    "\n",
    "fig, ax = plt.subplots(figsize=(10,6))\n",
    "ax.bar(ind, survived, width, color='b')\n",
    "ax.bar(ind + width, died, width, color='r')\n",
    "\n",
    "ax.set_ylabel('Number of passengers', fontsize=12)\n",
    "ax.set_title('Survival rate by passenger class', fontsize=16)\n",
    "ax.set_xticks(ind + width / 2)\n",
    "ax.set_xticklabels(('Passenger class 1', 'Passenger class 2', 'Passenger class 3'), fontsize=12)\n",
    "ax.xaxis.set_ticks_position('none')\n",
    "ax.legend(('Survived', 'Died'), fontsize=12)\n",
    "plt.show()"
   ]
  },
  {
   "cell_type": "code",
   "execution_count": 151,
   "metadata": {},
   "outputs": [
    {
     "data": {
      "image/png": "[encoded data removed]",
      "text/plain": [
       "<matplotlib.figure.Figure at 0x1122e99d0>"
      ]
     },
     "metadata": {},
     "output_type": "display_data"
    }
   ],
   "source": [
    "age_group01_survived, age_group01_died = 0, 0\n",
    "age_group02_survived, age_group02_died = 0, 0\n",
    "age_group03_survived, age_group03_died = 0, 0\n",
    "age_group04_survived, age_group04_died = 0, 0\n",
    "age_group05_survived, age_group05_died = 0, 0\n",
    "for key, value in passengers.iteritems():\n",
    "    if(value[\"age\"] != \"\"):\n",
    "        if(float(value[\"age\"]) < 15 and value[\"survived\"] == \"1\"):\n",
    "            age_group01_survived += 1\n",
    "        if(float(value[\"age\"]) < 15 and value[\"survived\"] == \"0\"):\n",
    "            age_group01_died += 1\n",
    "        if(15 <= float(value[\"age\"]) < 30 and value[\"survived\"] == \"1\"):\n",
    "            age_group02_survived += 1\n",
    "        if(15 <= float(value[\"age\"]) < 30 and value[\"survived\"] == \"0\"):\n",
    "            age_group02_died += 1\n",
    "        if(30 <= float(value[\"age\"]) < 45 and value[\"survived\"] == \"1\"):\n",
    "            age_group03_survived += 1\n",
    "        if(30 <= float(value[\"age\"]) < 45 and value[\"survived\"] == \"0\"):\n",
    "            age_group03_died += 1\n",
    "        if(45 <= float(value[\"age\"]) < 60 and value[\"survived\"] == \"1\"):\n",
    "            age_group04_survived += 1\n",
    "        if(45 <= float(value[\"age\"]) < 60 and value[\"survived\"] == \"0\"):\n",
    "            age_group04_died += 1\n",
    "        if(float(value[\"age\"]) >= 60 and value[\"survived\"] == \"1\"):\n",
    "            age_group05_survived += 1\n",
    "        if(float(value[\"age\"]) >= 60 and value[\"survived\"] == \"0\"):\n",
    "            age_group05_died += 1\n",
    "\n",
    "survived = (age_group01_survived, age_group02_survived, age_group03_survived, age_group04_survived,\n",
    "            age_group05_survived)\n",
    "died = (age_group01_died, age_group02_died, age_group03_died, age_group04_died, age_group05_died)\n",
    "\n",
    "ind = np.arange(5)\n",
    "width = 0.3\n",
    "\n",
    "fig, ax = plt.subplots(figsize=(10,6))\n",
    "ax.bar(ind, survived, width, color='b')\n",
    "ax.bar(ind + width, died, width, color='r')\n",
    "\n",
    "ax.set_ylabel('Number of passengers', fontsize=12)\n",
    "ax.set_title('Survival rate by age group', fontsize=16)\n",
    "ax.set_xticks(ind + width / 2)\n",
    "ax.set_xticklabels(('14 or younger', '15 - 29', '30 - 44', '45 - 59', '60 or older'), fontsize=12)\n",
    "ax.xaxis.set_ticks_position('none')\n",
    "ax.legend(('Survived', 'Died'), fontsize=12)\n",
    "plt.show()"
   ]
  },
  {
   "cell_type": "markdown",
   "metadata": {},
   "source": [
    "It is clear based on these bar charts that females were more likely to survive, the highest passenger class and the youngest demographic."
   ]
  },
  {
   "cell_type": "markdown",
   "metadata": {},
   "source": [
    "Lets replace the missing values for the attribute *age* with the mean age for different combinations of passenger classes and gender."
   ]
  },
  {
   "cell_type": "code",
   "execution_count": 152,
   "metadata": {
    "collapsed": true
   },
   "outputs": [],
   "source": [
    "passengers_ages = defaultdict(list)\n",
    "for key, value in passengers.iteritems():\n",
    "    if(value[\"age\"] != \"\"):\n",
    "        # Females in Class 1 \n",
    "        if(value[\"p_class\"] == \"1\" and value[\"sex\"] == \"female\"):\n",
    "            passengers_ages[\"class01_females\"].append(float(value[\"age\"]))\n",
    "        # Males in Class 1 \n",
    "        if(value[\"p_class\"] == \"1\" and value[\"sex\"] == \"male\"):\n",
    "            passengers_ages[\"class01_males\"].append(float(value[\"age\"]))\n",
    "        # Females in Class 2\n",
    "        if(value[\"p_class\"] == \"2\" and value[\"sex\"] == \"female\"):\n",
    "            passengers_ages[\"class02_females\"].append(float(value[\"age\"]))\n",
    "        # Males in Class 2\n",
    "        if(value[\"p_class\"] == \"2\" and value[\"sex\"] == \"male\"):\n",
    "            passengers_ages[\"class02_males\"].append(float(value[\"age\"]))\n",
    "        # Females in Class 3\n",
    "        if(value[\"p_class\"] == \"3\" and value[\"sex\"] == \"female\"):\n",
    "            passengers_ages[\"class03_females\"].append(float(value[\"age\"]))\n",
    "        # Males in Class 3\n",
    "        if(value[\"p_class\"] == \"3\" and value[\"sex\"] == \"male\"):\n",
    "            passengers_ages[\"class03_males\"].append(float(value[\"age\"]))"
   ]
  },
  {
   "cell_type": "code",
   "execution_count": 153,
   "metadata": {},
   "outputs": [
    {
     "name": "stdout",
     "output_type": "stream",
     "text": [
      "Number of females in passenger class 1: 133\n",
      "Mean age of females in passenger class 1: 37.037594\n",
      "\n",
      "Number of males in passenger class 1: 151\n",
      "Mean age of males in passenger class 1: 41.029272\n",
      "\n",
      "Number of females in passenger class 2: 103\n",
      "Mean age of females in passenger class 2: 27.499223\n",
      "\n",
      "Number of males in passenger class 2: 158\n",
      "Mean age of males in passenger class 2: 30.815380\n",
      "\n",
      "Number of females in passenger class 3: 152\n",
      "Mean age of females in passenger class 3: 22.185329\n",
      "\n",
      "Number of males in passenger class 3: 349\n",
      "Mean age of males in passenger class 3: 25.962264\n"
     ]
    }
   ],
   "source": [
    "class01_females_mean = np.mean(passengers_ages[\"class01_females\"])\n",
    "print \"Number of females in passenger class 1: %d\" % len(passengers_ages[\"class01_females\"])\n",
    "print \"Mean age of females in passenger class 1: %f\\n\" % class01_females_mean\n",
    "\n",
    "class01_males_mean = np.mean(passengers_ages[\"class01_males\"])\n",
    "print \"Number of males in passenger class 1: %d\" % len(passengers_ages[\"class01_males\"])\n",
    "print \"Mean age of males in passenger class 1: %f\\n\" % class01_males_mean\n",
    "\n",
    "class02_females_mean = np.mean(passengers_ages[\"class02_females\"])\n",
    "print \"Number of females in passenger class 2: %d\" % len(passengers_ages[\"class02_females\"])\n",
    "print \"Mean age of females in passenger class 2: %f\\n\" % class02_females_mean\n",
    "\n",
    "class02_males_mean = np.mean(passengers_ages[\"class02_males\"])\n",
    "print \"Number of males in passenger class 2: %d\" % len(passengers_ages[\"class02_males\"])\n",
    "print \"Mean age of males in passenger class 2: %f\\n\" % class02_males_mean\n",
    "\n",
    "class03_females_mean = np.mean(passengers_ages[\"class03_females\"])\n",
    "print \"Number of females in passenger class 3: %d\" % len(passengers_ages[\"class03_females\"])\n",
    "print \"Mean age of females in passenger class 3: %f\\n\" % class03_females_mean\n",
    "\n",
    "class03_males_mean = np.mean(passengers_ages[\"class03_males\"])\n",
    "print \"Number of males in passenger class 3: %d\" % len(passengers_ages[\"class03_males\"])\n",
    "print \"Mean age of males in passenger class 3: %f\" % class03_males_mean"
   ]
  },
  {
   "cell_type": "markdown",
   "metadata": {},
   "source": [
    "For *fare*, the missing value will be replaced with the mean and for *embarked* the two missing values will be replaced with the mode."
   ]
  },
  {
   "cell_type": "code",
   "execution_count": 154,
   "metadata": {},
   "outputs": [
    {
     "name": "stdout",
     "output_type": "stream",
     "text": [
      "Mean of fare: 33.295479\n",
      "Mode of embarked: S\n"
     ]
    }
   ],
   "source": [
    "passengers_fare_mean = np.mean(passengers_fare)\n",
    "print \"Mean of fare: %f\" % passengers_fare_mean\n",
    "\n",
    "passengers_embarked_mode = Counter(passengers_embarked).most_common(1)[0][0]\n",
    "print \"Mode of embarked: %s\" % passengers_embarked_mode"
   ]
  },
  {
   "cell_type": "markdown",
   "metadata": {},
   "source": [
    "Now lets extract the titles from the names."
   ]
  },
  {
   "cell_type": "code",
   "execution_count": 155,
   "metadata": {
    "collapsed": true
   },
   "outputs": [],
   "source": [
    "passengers_title = []\n",
    "for name in passengers_name:\n",
    "    title = name.split(\", \")[1].split(\".\")[0]\n",
    "    passengers_title.append(title)"
   ]
  },
  {
   "cell_type": "code",
   "execution_count": 156,
   "metadata": {},
   "outputs": [
    {
     "name": "stdout",
     "output_type": "stream",
     "text": [
      "title: ['Capt', 'Col', 'Don', 'Dona', 'Dr', 'Jonkheer', 'Lady', 'Major', 'Master', 'Miss', 'Mlle', 'Mme', 'Mr', 'Mrs', 'Ms', 'Rev', 'Sir', 'the Countess']\n"
     ]
    }
   ],
   "source": [
    "passengers_title_classes = sorted(set(passengers_title))\n",
    "print \"title:\", passengers_title_classes"
   ]
  },
  {
   "cell_type": "markdown",
   "metadata": {},
   "source": [
    "Lets prepare data for the model and add it into an array. Classes which have strings as values will get integer values instead."
   ]
  },
  {
   "cell_type": "code",
   "execution_count": 157,
   "metadata": {},
   "outputs": [
    {
     "name": "stdout",
     "output_type": "stream",
     "text": [
      "Number of samples: 1309\n"
     ]
    }
   ],
   "source": [
    "X = []\n",
    "y = []\n",
    "for key, value in passengers.iteritems():\n",
    "    # Extract the title from the name attribute\n",
    "    title = value[\"name\"].split(\", \")[1].split(\".\")[0]\n",
    "    # Integer value for the title attribute\n",
    "    title_int = passengers_title_classes.index(title)\n",
    "        \n",
    "    # Integer value for the sex attribute\n",
    "    sex_int = passengers_sex_classes.index(value[\"sex\"])\n",
    "        \n",
    "    # Missing age values will get the mean age from different combinations\n",
    "    # of passenger classes and gender\n",
    "    if(value[\"age\"] == \"\"):\n",
    "        \n",
    "        # Females in Class 1 \n",
    "        if(value[\"p_class\"] == \"1\" and value[\"sex\"] == \"female\"):\n",
    "            age = class01_females_mean\n",
    "        # Males in Class 1 \n",
    "        elif(value[\"p_class\"] == \"1\" and value[\"sex\"] == \"male\"):\n",
    "            age = class01_males_mean\n",
    "        # Females in Class 2\n",
    "        elif(value[\"p_class\"] == \"2\" and value[\"sex\"] == \"female\"):\n",
    "            age = class02_females_mean\n",
    "        # Males in Class 2\n",
    "        elif(value[\"p_class\"] == \"2\" and value[\"sex\"] == \"male\"):\n",
    "            age = class02_males_mean\n",
    "        # Females in Class 3\n",
    "        elif(value[\"p_class\"] == \"3\" and value[\"sex\"] == \"female\"):\n",
    "            age = class03_females_mean\n",
    "        # Males in Class 3\n",
    "        else:\n",
    "            age = class03_males_mean\n",
    "    \n",
    "    else:\n",
    "        age = float(value[\"age\"])\n",
    "        \n",
    "    # Extract information from attributes 'sip_sp' and 'parch' to determine if\n",
    "    # the passenger is on his own, part of a small family or part of a large family\n",
    "    size_of_family = 1 + int(value[\"sip_sp\"]) + int(value[\"parch\"])\n",
    "    if(size_of_family >= 5):\n",
    "        family_size = 0\n",
    "    elif(2 <= size_of_family < 5):\n",
    "        family_size = 1\n",
    "    else:\n",
    "        family_size = 2\n",
    "        \n",
    "    # Missing fare values will get the mean fare\n",
    "    if(value[\"fare\"] == \"\"):\n",
    "        fare = passengers_fare_mean\n",
    "    else:\n",
    "        fare = float(value[\"fare\"])\n",
    "            \n",
    "    # Missing embarked values will get the mode of embarked\n",
    "    if(value[\"embarked\"] == \"\"):\n",
    "        embarked = passengers_embarked_mode\n",
    "    else:\n",
    "        embarked = value[\"embarked\"]\n",
    "    # Integer value for the embarked attribute\n",
    "    embarked_int = passengers_embarked_classes.index(embarked)        \n",
    "                \n",
    "    X.append([int(value[\"p_class\"]), title_int, sex_int, age, int(value[\"sip_sp\"]), int(value[\"parch\"]),\n",
    "              family_size, fare, embarked_int, value[\"data\"], key])\n",
    "\n",
    "    if(value[\"data\"] == \"training_data\"):\n",
    "        y.append(int(value[\"survived\"]))\n",
    "    else:\n",
    "        y.append(value[\"survived\"])\n",
    "    \n",
    "X = np.array(X)\n",
    "print \"Number of samples: %d\" % len(X)"
   ]
  },
  {
   "cell_type": "markdown",
   "metadata": {},
   "source": [
    "Next step is to remove the test data from the array."
   ]
  },
  {
   "cell_type": "code",
   "execution_count": 158,
   "metadata": {},
   "outputs": [
    {
     "name": "stdout",
     "output_type": "stream",
     "text": [
      "Number of training data tuples (X): 891\n",
      "Number of class labels (y): 891\n"
     ]
    }
   ],
   "source": [
    "# Remove the test data and the last two columns from X which contains the\n",
    "# attribute whether or not the data tuple was a training_data or test_data\n",
    "# and passenger ID\n",
    "X_training_data = X[np.all(X != \"test_data\", axis=1)][:, :-2]\n",
    "\n",
    "# # Remove the test data\n",
    "y_training_data = np.array([label for label in y if label != \"N/A\"])\n",
    "\n",
    "print \"Number of training data tuples (X): %d\" % len(X_training_data)\n",
    "print \"Number of class labels (y): %d\" % len(y_training_data)"
   ]
  },
  {
   "cell_type": "markdown",
   "metadata": {},
   "source": [
    "When the model is fitted it is possible to see which features are the most important according to auto parameters for the random forest classifier."
   ]
  },
  {
   "cell_type": "code",
   "execution_count": 159,
   "metadata": {},
   "outputs": [
    {
     "name": "stdout",
     "output_type": "stream",
     "text": [
      "p_class: 0.083002\n",
      "title: 0.102578\n",
      "sex: 0.208577\n",
      "age: 0.213454\n",
      "sip_sp: 0.041412\n",
      "parch: 0.019836\n",
      "family_size: 0.042775\n",
      "fare: 0.260466\n",
      "embarked: 0.027901\n"
     ]
    }
   ],
   "source": [
    "features = [\"p_class\", \"title\", \"sex\", \"age\", \"sip_sp\", \"parch\", \"family_size\", \"fare\", \"embarked\"]\n",
    "\n",
    "rf_classifier = RandomForestClassifier()\n",
    "rf_classifier = rf_classifier.fit(X_training_data, y_training_data)\n",
    "for idx, score in enumerate(rf_classifier.feature_importances_):\n",
    "    print \"%s: %f\" % (features[idx], score)"
   ]
  },
  {
   "cell_type": "markdown",
   "metadata": {},
   "source": [
    "Here it is clear that there are three key features; *fare*, *age* and *sex*. Furthermore, since there are such few features the random forest model will use all of them later on."
   ]
  },
  {
   "cell_type": "markdown",
   "metadata": {},
   "source": [
    "Max depth of the trees within the model are crucial in order to optimize the model."
   ]
  },
  {
   "cell_type": "code",
   "execution_count": 160,
   "metadata": {},
   "outputs": [
    {
     "name": "stdout",
     "output_type": "stream",
     "text": [
      "[14, 15, 17, 17, 17, 17, 17, 17, 17, 19]\n"
     ]
    }
   ],
   "source": [
    "random_forest_max_depths = sorted([estimator.tree_.max_depth for estimator in rf_classifier.estimators_])\n",
    "print random_forest_max_depths\n",
    "\n",
    "max_depth_upper_limit = max(random_forest_max_depths)"
   ]
  },
  {
   "cell_type": "markdown",
   "metadata": {},
   "source": [
    "Max depth from this list will be the upper limit for *max_depth* parameter when the model is pruned for optimization.\n",
    "\n",
    "Other parameters that will be pruned: *n_estimators* and *max_features*"
   ]
  },
  {
   "cell_type": "code",
   "execution_count": 161,
   "metadata": {},
   "outputs": [],
   "source": [
    "param_grid = {\"n_estimators\": [10, 50, 100],\n",
    "              \"max_features\": [\"auto\", \"sqrt\", \"log2\"],\n",
    "              \"max_depth\" : range(2, max_depth_upper_limit)\n",
    "             }\n",
    "\n",
    "K = 5\n",
    "CV = cross_validation.KFold(len(X_training_data), K, shuffle=True)\n",
    "\n",
    "grid_search = GridSearchCV(rf_classifier,\n",
    "                           scoring=\"accuracy\",\n",
    "                           param_grid=param_grid,\n",
    "                           cv=CV)\n",
    "\n",
    "grid_search = grid_search.fit(X_training_data, y_training_data)"
   ]
  },
  {
   "cell_type": "code",
   "execution_count": 162,
   "metadata": {},
   "outputs": [
    {
     "name": "stdout",
     "output_type": "stream",
     "text": [
      "Top score: 0.840629\n",
      "\n",
      "Using these parameters:\n",
      "max_features: log2\n",
      "n_estimators: 100\n",
      "max_depth: 7\n"
     ]
    }
   ],
   "source": [
    "print \"Top score: %f\\n\" % grid_search.best_score_\n",
    "print \"Using these parameters:\"\n",
    "for param, value in grid_search.best_params_.iteritems():\n",
    "    print \"%s: %s\" % (param, value)"
   ]
  },
  {
   "cell_type": "markdown",
   "metadata": {},
   "source": [
    "Next step is to extract the test data from the array."
   ]
  },
  {
   "cell_type": "code",
   "execution_count": 163,
   "metadata": {},
   "outputs": [
    {
     "name": "stdout",
     "output_type": "stream",
     "text": [
      "Number of test data tuples (X): 418\n"
     ]
    }
   ],
   "source": [
    "# Remove the test data and the last two columns from X which contains the\n",
    "# attribute whether or not the data tuple was a training_data or test_data\n",
    "# and passenger ID\n",
    "X_test_data = X[np.all(X != \"training_data\", axis=1)][:, :-2]\n",
    "\n",
    "print \"Number of test data tuples (X): %d\" % len(X_test_data)"
   ]
  },
  {
   "cell_type": "markdown",
   "metadata": {},
   "source": [
    "Finally, the data is fitted into the random forest model and trained with the optimized parameters found earlier."
   ]
  },
  {
   "cell_type": "code",
   "execution_count": 164,
   "metadata": {},
   "outputs": [],
   "source": [
    "# Fit random forest to the training data and predict the test data\n",
    "rf_classifier = RandomForestClassifier(max_features=\"log2\", n_estimators=100, max_depth=7)\n",
    "rf_classifier = rf_classifier.fit(X_training_data, y_training_data)\n",
    "y_predictions = rf_classifier.predict(X_test_data)"
   ]
  },
  {
   "cell_type": "code",
   "execution_count": 165,
   "metadata": {
    "collapsed": true
   },
   "outputs": [],
   "source": [
    "# Extract passenger ID column\n",
    "X_test_data_passenger_id = X[np.all(X != \"training_data\", axis=1)][:, -1:]\n",
    "\n",
    "# Combine passenger ID and predictions into a list\n",
    "survival_predictions = []\n",
    "for idx, passenger_id in enumerate(X_test_data_passenger_id):\n",
    "    survival_predictions.append([int(passenger_id[0]), y_predictions[idx]])"
   ]
  },
  {
   "cell_type": "code",
   "execution_count": 166,
   "metadata": {
    "collapsed": true
   },
   "outputs": [],
   "source": [
    "# Write to a csv-file\n",
    "with open(\"survival_predictions.csv\", \"wb\") as f:\n",
    "    writer = csv.writer(f)\n",
    "    writer.writerow((\"PassengerId\", \"Survived\"))\n",
    "    writer.writerows(sorted(survival_predictions))"
   ]
  }
 ],
 "metadata": {
  "kernelspec": {
   "display_name": "Python 2",
   "language": "python",
   "name": "python2"
  },
  "language_info": {
   "codemirror_mode": {
    "name": "ipython",
    "version": 2
   },
   "file_extension": ".py",
   "mimetype": "text/x-python",
   "name": "python",
   "nbconvert_exporter": "python",
   "pygments_lexer": "ipython2",
   "version": "2.7.13"
  }
 },
 "nbformat": 4,
 "nbformat_minor": 2
}
